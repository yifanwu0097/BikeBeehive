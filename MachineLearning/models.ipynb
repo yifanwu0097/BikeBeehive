{
 "cells": [
  {
   "attachments": {},
   "cell_type": "markdown",
   "metadata": {},
   "source": [
    "### Import modules"
   ]
  },
  {
   "cell_type": "code",
   "execution_count": 1,
   "metadata": {},
   "outputs": [],
   "source": [
    "import pickle\n",
    "import pandas as pd\n",
    "import numpy as np\n",
    "import pymysql.cursors\n",
    "import sys\n",
    "import matplotlib.pyplot as plt"
   ]
  },
  {
   "attachments": {},
   "cell_type": "markdown",
   "metadata": {},
   "source": [
    "### Connect to database and preview the dataframe"
   ]
  },
  {
   "cell_type": "code",
   "execution_count": 2,
   "metadata": {},
   "outputs": [
    {
     "name": "stdout",
     "output_type": "stream",
     "text": [
      "Database connected successfully\n"
     ]
    },
    {
     "data": {
      "text/html": [
       "<div>\n",
       "<style scoped>\n",
       "    .dataframe tbody tr th:only-of-type {\n",
       "        vertical-align: middle;\n",
       "    }\n",
       "\n",
       "    .dataframe tbody tr th {\n",
       "        vertical-align: top;\n",
       "    }\n",
       "\n",
       "    .dataframe thead th {\n",
       "        text-align: right;\n",
       "    }\n",
       "</style>\n",
       "<table border=\"1\" class=\"dataframe\">\n",
       "  <thead>\n",
       "    <tr style=\"text-align: right;\">\n",
       "      <th></th>\n",
       "      <th>number</th>\n",
       "      <th>available_bikes</th>\n",
       "      <th>available_bike_stands</th>\n",
       "      <th>last_update</th>\n",
       "    </tr>\n",
       "  </thead>\n",
       "  <tbody>\n",
       "    <tr>\n",
       "      <th>1089721</th>\n",
       "      <td>39</td>\n",
       "      <td>5</td>\n",
       "      <td>14</td>\n",
       "      <td>2023-04-15 22:55:30</td>\n",
       "    </tr>\n",
       "    <tr>\n",
       "      <th>1089722</th>\n",
       "      <td>83</td>\n",
       "      <td>12</td>\n",
       "      <td>28</td>\n",
       "      <td>2023-04-15 22:48:12</td>\n",
       "    </tr>\n",
       "    <tr>\n",
       "      <th>1089723</th>\n",
       "      <td>92</td>\n",
       "      <td>31</td>\n",
       "      <td>9</td>\n",
       "      <td>2023-04-15 22:54:38</td>\n",
       "    </tr>\n",
       "    <tr>\n",
       "      <th>1089724</th>\n",
       "      <td>21</td>\n",
       "      <td>25</td>\n",
       "      <td>4</td>\n",
       "      <td>2023-04-15 22:51:54</td>\n",
       "    </tr>\n",
       "    <tr>\n",
       "      <th>1089725</th>\n",
       "      <td>88</td>\n",
       "      <td>11</td>\n",
       "      <td>19</td>\n",
       "      <td>2023-04-15 22:51:01</td>\n",
       "    </tr>\n",
       "  </tbody>\n",
       "</table>\n",
       "</div>"
      ],
      "text/plain": [
       "         number  available_bikes  available_bike_stands         last_update\n",
       "1089721      39                5                     14 2023-04-15 22:55:30\n",
       "1089722      83               12                     28 2023-04-15 22:48:12\n",
       "1089723      92               31                      9 2023-04-15 22:54:38\n",
       "1089724      21               25                      4 2023-04-15 22:51:54\n",
       "1089725      88               11                     19 2023-04-15 22:51:01"
      ]
     },
     "execution_count": 2,
     "metadata": {},
     "output_type": "execute_result"
    }
   ],
   "source": [
    "URI = \"database-test1.ckvmcnbipeqn.eu-west-1.rds.amazonaws.com\"\n",
    "PORT = 3306\n",
    "DB = \"dbbikes\"\n",
    "USER = \"picto\"\n",
    "PASSWORD = \"Comp30830\"\n",
    "try:\n",
    "    conn = pymysql.connect(host=URI, user=USER, password=PASSWORD, port=PORT, database=DB)\n",
    "\n",
    "    cursor = conn.cursor()\n",
    "    sql = \"SELECT * FROM db_bikes.station_new_availability\"\n",
    "    cursor.execute(sql)\n",
    "    results = cursor.fetchall()\n",
    "    columns = [desc[0] for desc in cursor.description]\n",
    "    df_bikes_availability = pd.DataFrame(results, columns= columns)\n",
    "    print(\"Database connected successfully\")\n",
    "except Exception as e:\n",
    "    sys.exit(e)\n",
    "\n",
    "df_bikes_availability.tail()"
   ]
  },
  {
   "attachments": {},
   "cell_type": "markdown",
   "metadata": {},
   "source": [
    "### Add columns"
   ]
  },
  {
   "cell_type": "code",
   "execution_count": 3,
   "metadata": {},
   "outputs": [],
   "source": [
    "\n",
    "df_bikes_availability['weekday'] = df_bikes_availability.last_update.dt.day_name()\n",
    "df_bikes_availability.loc[df_bikes_availability.last_update >= pd.Timestamp('2023-03-26 01:00:00'), 'hour'] = df_bikes_availability.last_update.dt.hour + 1\n",
    "df_bikes_availability.loc[df_bikes_availability.last_update < pd.Timestamp('2023-03-26 01:00:00'), 'hour'] = df_bikes_availability.last_update.dt.hour\n",
    "df_bikes_availability['total_stands'] = df_bikes_availability['available_bikes'] + df_bikes_availability['available_bike_stands']"
   ]
  },
  {
   "cell_type": "code",
   "execution_count": 4,
   "metadata": {},
   "outputs": [
    {
     "data": {
      "text/html": [
       "<div>\n",
       "<style scoped>\n",
       "    .dataframe tbody tr th:only-of-type {\n",
       "        vertical-align: middle;\n",
       "    }\n",
       "\n",
       "    .dataframe tbody tr th {\n",
       "        vertical-align: top;\n",
       "    }\n",
       "\n",
       "    .dataframe thead th {\n",
       "        text-align: right;\n",
       "    }\n",
       "</style>\n",
       "<table border=\"1\" class=\"dataframe\">\n",
       "  <thead>\n",
       "    <tr style=\"text-align: right;\">\n",
       "      <th></th>\n",
       "      <th>number</th>\n",
       "      <th>available_bikes</th>\n",
       "      <th>available_bike_stands</th>\n",
       "      <th>last_update</th>\n",
       "      <th>weekday</th>\n",
       "      <th>hour</th>\n",
       "      <th>total_stands</th>\n",
       "    </tr>\n",
       "  </thead>\n",
       "  <tbody>\n",
       "    <tr>\n",
       "      <th>1089721</th>\n",
       "      <td>39</td>\n",
       "      <td>5</td>\n",
       "      <td>14</td>\n",
       "      <td>2023-04-15 22:55:30</td>\n",
       "      <td>Saturday</td>\n",
       "      <td>23.0</td>\n",
       "      <td>19</td>\n",
       "    </tr>\n",
       "    <tr>\n",
       "      <th>1089722</th>\n",
       "      <td>83</td>\n",
       "      <td>12</td>\n",
       "      <td>28</td>\n",
       "      <td>2023-04-15 22:48:12</td>\n",
       "      <td>Saturday</td>\n",
       "      <td>23.0</td>\n",
       "      <td>40</td>\n",
       "    </tr>\n",
       "    <tr>\n",
       "      <th>1089723</th>\n",
       "      <td>92</td>\n",
       "      <td>31</td>\n",
       "      <td>9</td>\n",
       "      <td>2023-04-15 22:54:38</td>\n",
       "      <td>Saturday</td>\n",
       "      <td>23.0</td>\n",
       "      <td>40</td>\n",
       "    </tr>\n",
       "    <tr>\n",
       "      <th>1089724</th>\n",
       "      <td>21</td>\n",
       "      <td>25</td>\n",
       "      <td>4</td>\n",
       "      <td>2023-04-15 22:51:54</td>\n",
       "      <td>Saturday</td>\n",
       "      <td>23.0</td>\n",
       "      <td>29</td>\n",
       "    </tr>\n",
       "    <tr>\n",
       "      <th>1089725</th>\n",
       "      <td>88</td>\n",
       "      <td>11</td>\n",
       "      <td>19</td>\n",
       "      <td>2023-04-15 22:51:01</td>\n",
       "      <td>Saturday</td>\n",
       "      <td>23.0</td>\n",
       "      <td>30</td>\n",
       "    </tr>\n",
       "  </tbody>\n",
       "</table>\n",
       "</div>"
      ],
      "text/plain": [
       "         number  available_bikes  available_bike_stands         last_update   \n",
       "1089721      39                5                     14 2023-04-15 22:55:30  \\\n",
       "1089722      83               12                     28 2023-04-15 22:48:12   \n",
       "1089723      92               31                      9 2023-04-15 22:54:38   \n",
       "1089724      21               25                      4 2023-04-15 22:51:54   \n",
       "1089725      88               11                     19 2023-04-15 22:51:01   \n",
       "\n",
       "          weekday  hour  total_stands  \n",
       "1089721  Saturday  23.0            19  \n",
       "1089722  Saturday  23.0            40  \n",
       "1089723  Saturday  23.0            40  \n",
       "1089724  Saturday  23.0            29  \n",
       "1089725  Saturday  23.0            30  "
      ]
     },
     "execution_count": 4,
     "metadata": {},
     "output_type": "execute_result"
    }
   ],
   "source": [
    "df_bikes_availability.tail()"
   ]
  },
  {
   "attachments": {},
   "cell_type": "markdown",
   "metadata": {},
   "source": [
    "### Check null data"
   ]
  },
  {
   "cell_type": "code",
   "execution_count": 5,
   "metadata": {},
   "outputs": [
    {
     "data": {
      "text/html": [
       "<div>\n",
       "<style scoped>\n",
       "    .dataframe tbody tr th:only-of-type {\n",
       "        vertical-align: middle;\n",
       "    }\n",
       "\n",
       "    .dataframe tbody tr th {\n",
       "        vertical-align: top;\n",
       "    }\n",
       "\n",
       "    .dataframe thead th {\n",
       "        text-align: right;\n",
       "    }\n",
       "</style>\n",
       "<table border=\"1\" class=\"dataframe\">\n",
       "  <thead>\n",
       "    <tr style=\"text-align: right;\">\n",
       "      <th></th>\n",
       "      <th>number</th>\n",
       "      <th>available_bikes</th>\n",
       "      <th>available_bike_stands</th>\n",
       "      <th>last_update</th>\n",
       "      <th>weekday</th>\n",
       "      <th>hour</th>\n",
       "      <th>total_stands</th>\n",
       "    </tr>\n",
       "  </thead>\n",
       "  <tbody>\n",
       "  </tbody>\n",
       "</table>\n",
       "</div>"
      ],
      "text/plain": [
       "Empty DataFrame\n",
       "Columns: [number, available_bikes, available_bike_stands, last_update, weekday, hour, total_stands]\n",
       "Index: []"
      ]
     },
     "execution_count": 5,
     "metadata": {},
     "output_type": "execute_result"
    }
   ],
   "source": [
    "df_bikes_availability[df_bikes_availability.isnull().values==True]"
   ]
  },
  {
   "attachments": {},
   "cell_type": "markdown",
   "metadata": {},
   "source": [
    "### Check duplicate data"
   ]
  },
  {
   "cell_type": "code",
   "execution_count": 6,
   "metadata": {},
   "outputs": [],
   "source": [
    "# df_bikes_availability.duplicated().sum()\n",
    "# include_duplicate = df_bikes_availability[df_bikes_availability.duplicated(keep=False)].shape[0]\n",
    "# print(\"There are {} duplicate rows including the first row.\".format(include_duplicate))\n",
    "# include_duplicate_lines = df_bikes_availability[df_bikes_availability.duplicated(keep=False)]\n",
    "# print(include_duplicate_lines)"
   ]
  },
  {
   "attachments": {},
   "cell_type": "markdown",
   "metadata": {},
   "source": [
    "### descriptive statistics"
   ]
  },
  {
   "cell_type": "code",
   "execution_count": 7,
   "metadata": {},
   "outputs": [
    {
     "name": "stdout",
     "output_type": "stream",
     "text": [
      "number                            int64\n",
      "available_bikes                   int64\n",
      "available_bike_stands             int64\n",
      "last_update              datetime64[ns]\n",
      "weekday                          object\n",
      "hour                            float64\n",
      "total_stands                      int64\n",
      "dtype: object\n"
     ]
    }
   ],
   "source": [
    "# check all of the data types\n",
    "print(df_bikes_availability.dtypes)"
   ]
  },
  {
   "cell_type": "code",
   "execution_count": 8,
   "metadata": {},
   "outputs": [
    {
     "data": {
      "text/html": [
       "<div>\n",
       "<style scoped>\n",
       "    .dataframe tbody tr th:only-of-type {\n",
       "        vertical-align: middle;\n",
       "    }\n",
       "\n",
       "    .dataframe tbody tr th {\n",
       "        vertical-align: top;\n",
       "    }\n",
       "\n",
       "    .dataframe thead th {\n",
       "        text-align: right;\n",
       "    }\n",
       "</style>\n",
       "<table border=\"1\" class=\"dataframe\">\n",
       "  <thead>\n",
       "    <tr style=\"text-align: right;\">\n",
       "      <th></th>\n",
       "      <th>count</th>\n",
       "      <th>unique</th>\n",
       "      <th>top</th>\n",
       "      <th>freq</th>\n",
       "    </tr>\n",
       "  </thead>\n",
       "  <tbody>\n",
       "    <tr>\n",
       "      <th>weekday</th>\n",
       "      <td>1089726</td>\n",
       "      <td>7</td>\n",
       "      <td>Wednesday</td>\n",
       "      <td>163427</td>\n",
       "    </tr>\n",
       "  </tbody>\n",
       "</table>\n",
       "</div>"
      ],
      "text/plain": [
       "           count unique        top    freq\n",
       "weekday  1089726      7  Wednesday  163427"
      ]
     },
     "execution_count": 8,
     "metadata": {},
     "output_type": "execute_result"
    }
   ],
   "source": [
    "# modify the data type of weekday to category\n",
    "df_bikes_availability['weekday'] = df_bikes_availability['weekday'].astype('category')\n",
    "df_bikes_availability.select_dtypes(['category']).describe().T"
   ]
  },
  {
   "cell_type": "code",
   "execution_count": 9,
   "metadata": {},
   "outputs": [
    {
     "data": {
      "text/html": [
       "<div>\n",
       "<style scoped>\n",
       "    .dataframe tbody tr th:only-of-type {\n",
       "        vertical-align: middle;\n",
       "    }\n",
       "\n",
       "    .dataframe tbody tr th {\n",
       "        vertical-align: top;\n",
       "    }\n",
       "\n",
       "    .dataframe thead th {\n",
       "        text-align: right;\n",
       "    }\n",
       "</style>\n",
       "<table border=\"1\" class=\"dataframe\">\n",
       "  <thead>\n",
       "    <tr style=\"text-align: right;\">\n",
       "      <th></th>\n",
       "      <th>count</th>\n",
       "      <th>mean</th>\n",
       "      <th>std</th>\n",
       "      <th>min</th>\n",
       "      <th>25%</th>\n",
       "      <th>50%</th>\n",
       "      <th>75%</th>\n",
       "      <th>max</th>\n",
       "    </tr>\n",
       "  </thead>\n",
       "  <tbody>\n",
       "    <tr>\n",
       "      <th>number</th>\n",
       "      <td>1089726.0</td>\n",
       "      <td>58.824561</td>\n",
       "      <td>34.115466</td>\n",
       "      <td>1.0</td>\n",
       "      <td>29.0</td>\n",
       "      <td>58.5</td>\n",
       "      <td>89.0</td>\n",
       "      <td>117.0</td>\n",
       "    </tr>\n",
       "    <tr>\n",
       "      <th>available_bikes</th>\n",
       "      <td>1089726.0</td>\n",
       "      <td>11.439005</td>\n",
       "      <td>9.450369</td>\n",
       "      <td>0.0</td>\n",
       "      <td>3.0</td>\n",
       "      <td>10.0</td>\n",
       "      <td>17.0</td>\n",
       "      <td>40.0</td>\n",
       "    </tr>\n",
       "    <tr>\n",
       "      <th>available_bike_stands</th>\n",
       "      <td>1089726.0</td>\n",
       "      <td>20.095413</td>\n",
       "      <td>10.940626</td>\n",
       "      <td>0.0</td>\n",
       "      <td>12.0</td>\n",
       "      <td>20.0</td>\n",
       "      <td>29.0</td>\n",
       "      <td>40.0</td>\n",
       "    </tr>\n",
       "    <tr>\n",
       "      <th>total_stands</th>\n",
       "      <td>1089726.0</td>\n",
       "      <td>31.534418</td>\n",
       "      <td>8.026097</td>\n",
       "      <td>0.0</td>\n",
       "      <td>29.0</td>\n",
       "      <td>30.0</td>\n",
       "      <td>40.0</td>\n",
       "      <td>40.0</td>\n",
       "    </tr>\n",
       "  </tbody>\n",
       "</table>\n",
       "</div>"
      ],
      "text/plain": [
       "                           count       mean        std  min   25%   50%   75%   \n",
       "number                 1089726.0  58.824561  34.115466  1.0  29.0  58.5  89.0  \\\n",
       "available_bikes        1089726.0  11.439005   9.450369  0.0   3.0  10.0  17.0   \n",
       "available_bike_stands  1089726.0  20.095413  10.940626  0.0  12.0  20.0  29.0   \n",
       "total_stands           1089726.0  31.534418   8.026097  0.0  29.0  30.0  40.0   \n",
       "\n",
       "                         max  \n",
       "number                 117.0  \n",
       "available_bikes         40.0  \n",
       "available_bike_stands   40.0  \n",
       "total_stands            40.0  "
      ]
     },
     "execution_count": 9,
     "metadata": {},
     "output_type": "execute_result"
    }
   ],
   "source": [
    "numeric_columns = df_bikes_availability.select_dtypes(['int64']).columns\n",
    "df_bikes_availability[numeric_columns].describe().T"
   ]
  },
  {
   "cell_type": "code",
   "execution_count": 10,
   "metadata": {},
   "outputs": [
    {
     "data": {
      "text/html": [
       "<div>\n",
       "<style scoped>\n",
       "    .dataframe tbody tr th:only-of-type {\n",
       "        vertical-align: middle;\n",
       "    }\n",
       "\n",
       "    .dataframe tbody tr th {\n",
       "        vertical-align: top;\n",
       "    }\n",
       "\n",
       "    .dataframe thead th {\n",
       "        text-align: right;\n",
       "    }\n",
       "</style>\n",
       "<table border=\"1\" class=\"dataframe\">\n",
       "  <thead>\n",
       "    <tr style=\"text-align: right;\">\n",
       "      <th></th>\n",
       "      <th>count</th>\n",
       "      <th>mean</th>\n",
       "      <th>min</th>\n",
       "      <th>25%</th>\n",
       "      <th>50%</th>\n",
       "      <th>75%</th>\n",
       "      <th>max</th>\n",
       "    </tr>\n",
       "  </thead>\n",
       "  <tbody>\n",
       "    <tr>\n",
       "      <th>last_update</th>\n",
       "      <td>1089726</td>\n",
       "      <td>2023-03-30 06:23:24.596641280</td>\n",
       "      <td>2023-03-13 14:37:42</td>\n",
       "      <td>2023-03-21 22:21:59</td>\n",
       "      <td>2023-03-30 06:18:04</td>\n",
       "      <td>2023-04-07 14:20:38</td>\n",
       "      <td>2023-04-15 22:57:46</td>\n",
       "    </tr>\n",
       "  </tbody>\n",
       "</table>\n",
       "</div>"
      ],
      "text/plain": [
       "               count                          mean                 min   \n",
       "last_update  1089726 2023-03-30 06:23:24.596641280 2023-03-13 14:37:42  \\\n",
       "\n",
       "                            25%                 50%                 75%   \n",
       "last_update 2023-03-21 22:21:59 2023-03-30 06:18:04 2023-04-07 14:20:38  \\\n",
       "\n",
       "                            max  \n",
       "last_update 2023-04-15 22:57:46  "
      ]
     },
     "execution_count": 10,
     "metadata": {},
     "output_type": "execute_result"
    }
   ],
   "source": [
    "df_bikes_availability.select_dtypes(['datetime64[ns]']).describe().T"
   ]
  },
  {
   "attachments": {},
   "cell_type": "markdown",
   "metadata": {},
   "source": [
    "### plot"
   ]
  },
  {
   "cell_type": "code",
   "execution_count": 11,
   "metadata": {},
   "outputs": [
    {
     "data": {
      "image/png": "[encoded data removed]",
      "text/plain": [
       "<Figure size 600x600 with 1 Axes>"
      ]
     },
     "metadata": {},
     "output_type": "display_data"
    },
    {
     "data": {
      "image/png": "[encoded data removed]",
      "text/plain": [
       "<Figure size 600x600 with 1 Axes>"
      ]
     },
     "metadata": {},
     "output_type": "display_data"
    },
    {
     "data": {
      "image/png": "[encoded data removed]",
      "text/plain": [
       "<Figure size 600x600 with 1 Axes>"
      ]
     },
     "metadata": {},
     "output_type": "display_data"
    }
   ],
   "source": [
    "station_info = {'available_bikes','available_bike_stands', 'total_stands'}\n",
    "color = {'boxes': 'Green', 'whiskers': 'Brown', 'medians': 'Blue', 'caps': 'Black'}\n",
    "\n",
    "for col in station_info:\n",
    "    f = df_bikes_availability[col].plot(color=color, kind='box', figsize=(6, 6))\n",
    "    plt.show()"
   ]
  },
  {
   "cell_type": "code",
   "execution_count": 12,
   "metadata": {},
   "outputs": [
    {
     "data": {
      "text/plain": [
       "array([[<Axes: title={'center': 'available_bike_stands'}>,\n",
       "        <Axes: title={'center': 'total_stands'}>],\n",
       "       [<Axes: title={'center': 'available_bikes'}>, <Axes: >]],\n",
       "      dtype=object)"
      ]
     },
     "execution_count": 12,
     "metadata": {},
     "output_type": "execute_result"
    },
    {
     "data": {
      "text/plain": [
       "<Figure size 640x480 with 0 Axes>"
      ]
     },
     "metadata": {},
     "output_type": "display_data"
    },
    {
     "data": {
      "image/png": "[encoded data removed]",
      "text/plain": [
       "<Figure size 1000x1000 with 4 Axes>"
      ]
     },
     "metadata": {},
     "output_type": "display_data"
    }
   ],
   "source": [
    "plt.figure()\n",
    "df_bikes_availability[list(station_info)].hist(figsize=(10, 10))"
   ]
  },
  {
   "cell_type": "code",
   "execution_count": 13,
   "metadata": {},
   "outputs": [
    {
     "data": {
      "text/plain": [
       "<Axes: xlabel='available_bikes', ylabel='available_bike_stands'>"
      ]
     },
     "execution_count": 13,
     "metadata": {},
     "output_type": "execute_result"
    },
    {
     "data": {
      "image/png": "[encoded data removed]",
      "text/plain": [
       "<Figure size 640x480 with 1 Axes>"
      ]
     },
     "metadata": {},
     "output_type": "display_data"
    }
   ],
   "source": [
    "df_bikes_availability.plot(kind='scatter', x='available_bikes', y='available_bike_stands')"
   ]
  },
  {
   "cell_type": "code",
   "execution_count": 14,
   "metadata": {},
   "outputs": [
    {
     "data": {
      "text/plain": [
       "<Axes: xlabel='weekday'>"
      ]
     },
     "execution_count": 14,
     "metadata": {},
     "output_type": "execute_result"
    },
    {
     "data": {
      "image/png": "[encoded data removed]",
      "text/plain": [
       "<Figure size 640x480 with 1 Axes>"
      ]
     },
     "metadata": {},
     "output_type": "display_data"
    }
   ],
   "source": [
    "df_bikes_availability.weekday.value_counts().sort_index().plot()"
   ]
  },
  {
   "attachments": {},
   "cell_type": "markdown",
   "metadata": {},
   "source": [
    "### store the fixed station stands"
   ]
  },
  {
   "cell_type": "code",
   "execution_count": 15,
   "metadata": {},
   "outputs": [
    {
     "data": {
      "text/html": [
       "<div>\n",
       "<style scoped>\n",
       "    .dataframe tbody tr th:only-of-type {\n",
       "        vertical-align: middle;\n",
       "    }\n",
       "\n",
       "    .dataframe tbody tr th {\n",
       "        vertical-align: top;\n",
       "    }\n",
       "\n",
       "    .dataframe thead th {\n",
       "        text-align: right;\n",
       "    }\n",
       "</style>\n",
       "<table border=\"1\" class=\"dataframe\">\n",
       "  <thead>\n",
       "    <tr style=\"text-align: right;\">\n",
       "      <th></th>\n",
       "      <th>number</th>\n",
       "      <th>total_stands</th>\n",
       "    </tr>\n",
       "  </thead>\n",
       "  <tbody>\n",
       "    <tr>\n",
       "      <th>16</th>\n",
       "      <td>1</td>\n",
       "      <td>31</td>\n",
       "    </tr>\n",
       "    <tr>\n",
       "      <th>83</th>\n",
       "      <td>2</td>\n",
       "      <td>20</td>\n",
       "    </tr>\n",
       "    <tr>\n",
       "      <th>104</th>\n",
       "      <td>3</td>\n",
       "      <td>20</td>\n",
       "    </tr>\n",
       "    <tr>\n",
       "      <th>44</th>\n",
       "      <td>4</td>\n",
       "      <td>20</td>\n",
       "    </tr>\n",
       "    <tr>\n",
       "      <th>39</th>\n",
       "      <td>5</td>\n",
       "      <td>40</td>\n",
       "    </tr>\n",
       "    <tr>\n",
       "      <th>...</th>\n",
       "      <td>...</td>\n",
       "      <td>...</td>\n",
       "    </tr>\n",
       "    <tr>\n",
       "      <th>31</th>\n",
       "      <td>113</td>\n",
       "      <td>40</td>\n",
       "    </tr>\n",
       "    <tr>\n",
       "      <th>28</th>\n",
       "      <td>114</td>\n",
       "      <td>40</td>\n",
       "    </tr>\n",
       "    <tr>\n",
       "      <th>56</th>\n",
       "      <td>115</td>\n",
       "      <td>30</td>\n",
       "    </tr>\n",
       "    <tr>\n",
       "      <th>36</th>\n",
       "      <td>116</td>\n",
       "      <td>30</td>\n",
       "    </tr>\n",
       "    <tr>\n",
       "      <th>58</th>\n",
       "      <td>117</td>\n",
       "      <td>39</td>\n",
       "    </tr>\n",
       "  </tbody>\n",
       "</table>\n",
       "<p>114 rows × 2 columns</p>\n",
       "</div>"
      ],
      "text/plain": [
       "     number  total_stands\n",
       "16        1            31\n",
       "83        2            20\n",
       "104       3            20\n",
       "44        4            20\n",
       "39        5            40\n",
       "..      ...           ...\n",
       "31      113            40\n",
       "28      114            40\n",
       "56      115            30\n",
       "36      116            30\n",
       "58      117            39\n",
       "\n",
       "[114 rows x 2 columns]"
      ]
     },
     "execution_count": 15,
     "metadata": {},
     "output_type": "execute_result"
    }
   ],
   "source": [
    "df_station = pd.DataFrame(df_bikes_availability, columns=['number', 'total_stands'])\n",
    "df_station = df_station.drop_duplicates(['number'])\n",
    "df_station = df_station.reset_index().drop('index',axis=1)\n",
    "df_station = df_station.sort_values(['number'], ascending=[True])\n",
    "df_station"
   ]
  },
  {
   "cell_type": "code",
   "execution_count": 16,
   "metadata": {},
   "outputs": [
    {
     "data": {
      "text/plain": [
       "20"
      ]
     },
     "execution_count": 16,
     "metadata": {},
     "output_type": "execute_result"
    }
   ],
   "source": [
    "df_station['total_stands'][df_bikes_availability['number'] == 2].iloc[0]"
   ]
  },
  {
   "cell_type": "code",
   "execution_count": 17,
   "metadata": {},
   "outputs": [
    {
     "name": "stdout",
     "output_type": "stream",
     "text": [
      "{1: 31, 2: 20, 3: 20, 4: 20, 5: 40, 6: 20, 7: 29, 8: 30, 9: 24, 10: 16, 11: 30, 12: 20, 13: 30, 14: 30, 15: 13, 16: 20, 17: 20, 18: 30, 19: 30, 20: 30, 21: 30, 22: 19, 23: 30, 24: 20, 25: 30, 26: 20, 27: 20, 28: 30, 29: 29, 30: 20, 31: 20, 32: 30, 33: 23, 34: 30, 35: 29, 36: 40, 37: 30, 38: 40, 39: 20, 40: 21, 41: 20, 42: 30, 43: 30, 44: 30, 45: 30, 47: 40, 48: 40, 49: 40, 50: 40, 51: 40, 52: 32, 53: 40, 54: 33, 55: 34, 56: 40, 57: 23, 58: 40, 59: 20, 60: 30, 61: 25, 62: 40, 63: 35, 64: 40, 65: 40, 66: 40, 67: 40, 68: 40, 69: 40, 71: 40, 72: 31, 73: 30, 74: 30, 75: 40, 76: 38, 77: 29, 78: 40, 79: 27, 80: 40, 82: 8, 83: 40, 84: 30, 85: 35, 86: 38, 87: 38, 88: 30, 89: 40, 90: 40, 91: 30, 92: 40, 93: 40, 94: 40, 95: 40, 96: 30, 97: 40, 98: 40, 99: 30, 100: 25, 101: 30, 102: 40, 103: 40, 104: 40, 105: 36, 106: 40, 107: 40, 108: 35, 109: 29, 110: 40, 111: 40, 112: 30, 113: 40, 114: 40, 115: 30, 116: 30, 117: 39}\n"
     ]
    }
   ],
   "source": [
    "station_total_stands = dict()\n",
    "for ID in df_station['number']:\n",
    "    station_total_stands[ID] = df_station['total_stands'][df_station['number'] == ID].iloc[0]\n",
    "print(station_total_stands)"
   ]
  },
  {
   "cell_type": "code",
   "execution_count": 18,
   "metadata": {},
   "outputs": [
    {
     "data": {
      "text/html": [
       "<div>\n",
       "<style scoped>\n",
       "    .dataframe tbody tr th:only-of-type {\n",
       "        vertical-align: middle;\n",
       "    }\n",
       "\n",
       "    .dataframe tbody tr th {\n",
       "        vertical-align: top;\n",
       "    }\n",
       "\n",
       "    .dataframe thead th {\n",
       "        text-align: right;\n",
       "    }\n",
       "</style>\n",
       "<table border=\"1\" class=\"dataframe\">\n",
       "  <thead>\n",
       "    <tr style=\"text-align: right;\">\n",
       "      <th></th>\n",
       "      <th>count</th>\n",
       "      <th>mean</th>\n",
       "      <th>std</th>\n",
       "      <th>min</th>\n",
       "      <th>25%</th>\n",
       "      <th>50%</th>\n",
       "      <th>75%</th>\n",
       "      <th>max</th>\n",
       "    </tr>\n",
       "  </thead>\n",
       "  <tbody>\n",
       "    <tr>\n",
       "      <th>number</th>\n",
       "      <td>114.0</td>\n",
       "      <td>58.824561</td>\n",
       "      <td>34.266071</td>\n",
       "      <td>1.0</td>\n",
       "      <td>29.25</td>\n",
       "      <td>58.5</td>\n",
       "      <td>88.75</td>\n",
       "      <td>117.0</td>\n",
       "    </tr>\n",
       "    <tr>\n",
       "      <th>total_stands</th>\n",
       "      <td>114.0</td>\n",
       "      <td>31.789474</td>\n",
       "      <td>7.824936</td>\n",
       "      <td>8.0</td>\n",
       "      <td>29.00</td>\n",
       "      <td>30.0</td>\n",
       "      <td>40.00</td>\n",
       "      <td>40.0</td>\n",
       "    </tr>\n",
       "  </tbody>\n",
       "</table>\n",
       "</div>"
      ],
      "text/plain": [
       "              count       mean        std  min    25%   50%    75%    max\n",
       "number        114.0  58.824561  34.266071  1.0  29.25  58.5  88.75  117.0\n",
       "total_stands  114.0  31.789474   7.824936  8.0  29.00  30.0  40.00   40.0"
      ]
     },
     "execution_count": 18,
     "metadata": {},
     "output_type": "execute_result"
    }
   ],
   "source": [
    "# descriptive statistic of station data\n",
    "df_station.describe().T"
   ]
  },
  {
   "cell_type": "code",
   "execution_count": 19,
   "metadata": {},
   "outputs": [
    {
     "data": {
      "text/plain": [
       "114"
      ]
     },
     "execution_count": 19,
     "metadata": {},
     "output_type": "execute_result"
    }
   ],
   "source": [
    "len(station_total_stands)"
   ]
  },
  {
   "attachments": {},
   "cell_type": "markdown",
   "metadata": {},
   "source": [
    "### save the data into csv"
   ]
  },
  {
   "cell_type": "code",
   "execution_count": 20,
   "metadata": {},
   "outputs": [],
   "source": [
    "df_bikes_availability.to_csv('df_bikes_availability.csv',index=None)"
   ]
  },
  {
   "cell_type": "code",
   "execution_count": 21,
   "metadata": {},
   "outputs": [],
   "source": [
    "df_station.to_csv('df_station.csv',index=None)"
   ]
  },
  {
   "attachments": {},
   "cell_type": "markdown",
   "metadata": {},
   "source": [
    "### weather data"
   ]
  },
  {
   "cell_type": "code",
   "execution_count": 26,
   "metadata": {},
   "outputs": [
    {
     "name": "stdout",
     "output_type": "stream",
     "text": [
      "Database connected successfully\n"
     ]
    },
    {
     "data": {
      "text/html": [
       "<div>\n",
       "<style scoped>\n",
       "    .dataframe tbody tr th:only-of-type {\n",
       "        vertical-align: middle;\n",
       "    }\n",
       "\n",
       "    .dataframe tbody tr th {\n",
       "        vertical-align: top;\n",
       "    }\n",
       "\n",
       "    .dataframe thead th {\n",
       "        text-align: right;\n",
       "    }\n",
       "</style>\n",
       "<table border=\"1\" class=\"dataframe\">\n",
       "  <thead>\n",
       "    <tr style=\"text-align: right;\">\n",
       "      <th></th>\n",
       "      <th>dt</th>\n",
       "      <th>sunrise</th>\n",
       "      <th>sunset</th>\n",
       "      <th>temp</th>\n",
       "      <th>feels_like</th>\n",
       "      <th>pressure</th>\n",
       "      <th>humidity</th>\n",
       "      <th>uvi</th>\n",
       "      <th>clouds</th>\n",
       "      <th>visibility</th>\n",
       "      <th>wind_speed</th>\n",
       "      <th>wind_deg</th>\n",
       "      <th>weather_description</th>\n",
       "      <th>temp_min</th>\n",
       "      <th>temp_max</th>\n",
       "    </tr>\n",
       "  </thead>\n",
       "  <tbody>\n",
       "    <tr>\n",
       "      <th>8796</th>\n",
       "      <td>2023-04-15 22:38:49</td>\n",
       "      <td>2023-04-15 05:26:13</td>\n",
       "      <td>2023-04-15 19:23:41</td>\n",
       "      <td>281.99</td>\n",
       "      <td>280.21</td>\n",
       "      <td>1021</td>\n",
       "      <td>87</td>\n",
       "      <td>0.0</td>\n",
       "      <td>75</td>\n",
       "      <td>9000</td>\n",
       "      <td>3.09</td>\n",
       "      <td>220</td>\n",
       "      <td>light rain</td>\n",
       "      <td>275.91</td>\n",
       "      <td>285.28</td>\n",
       "    </tr>\n",
       "    <tr>\n",
       "      <th>8797</th>\n",
       "      <td>2023-04-15 22:43:49</td>\n",
       "      <td>2023-04-15 05:26:13</td>\n",
       "      <td>2023-04-15 19:23:41</td>\n",
       "      <td>281.99</td>\n",
       "      <td>280.21</td>\n",
       "      <td>1021</td>\n",
       "      <td>87</td>\n",
       "      <td>0.0</td>\n",
       "      <td>75</td>\n",
       "      <td>9000</td>\n",
       "      <td>3.09</td>\n",
       "      <td>220</td>\n",
       "      <td>light rain</td>\n",
       "      <td>275.91</td>\n",
       "      <td>285.28</td>\n",
       "    </tr>\n",
       "    <tr>\n",
       "      <th>8798</th>\n",
       "      <td>2023-04-15 22:48:50</td>\n",
       "      <td>2023-04-15 05:26:13</td>\n",
       "      <td>2023-04-15 19:23:41</td>\n",
       "      <td>282.06</td>\n",
       "      <td>280.30</td>\n",
       "      <td>1020</td>\n",
       "      <td>87</td>\n",
       "      <td>0.0</td>\n",
       "      <td>75</td>\n",
       "      <td>9000</td>\n",
       "      <td>3.09</td>\n",
       "      <td>220</td>\n",
       "      <td>broken clouds</td>\n",
       "      <td>275.91</td>\n",
       "      <td>285.28</td>\n",
       "    </tr>\n",
       "    <tr>\n",
       "      <th>8799</th>\n",
       "      <td>2023-04-15 22:53:50</td>\n",
       "      <td>2023-04-15 05:26:13</td>\n",
       "      <td>2023-04-15 19:23:41</td>\n",
       "      <td>282.06</td>\n",
       "      <td>280.30</td>\n",
       "      <td>1020</td>\n",
       "      <td>87</td>\n",
       "      <td>0.0</td>\n",
       "      <td>75</td>\n",
       "      <td>9000</td>\n",
       "      <td>3.09</td>\n",
       "      <td>220</td>\n",
       "      <td>broken clouds</td>\n",
       "      <td>275.91</td>\n",
       "      <td>285.28</td>\n",
       "    </tr>\n",
       "    <tr>\n",
       "      <th>8800</th>\n",
       "      <td>2023-04-15 22:58:50</td>\n",
       "      <td>2023-04-15 05:26:13</td>\n",
       "      <td>2023-04-15 19:23:41</td>\n",
       "      <td>282.06</td>\n",
       "      <td>280.30</td>\n",
       "      <td>1020</td>\n",
       "      <td>87</td>\n",
       "      <td>0.0</td>\n",
       "      <td>75</td>\n",
       "      <td>9000</td>\n",
       "      <td>3.09</td>\n",
       "      <td>220</td>\n",
       "      <td>broken clouds</td>\n",
       "      <td>275.91</td>\n",
       "      <td>285.28</td>\n",
       "    </tr>\n",
       "  </tbody>\n",
       "</table>\n",
       "</div>"
      ],
      "text/plain": [
       "                      dt             sunrise              sunset    temp   \n",
       "8796 2023-04-15 22:38:49 2023-04-15 05:26:13 2023-04-15 19:23:41  281.99  \\\n",
       "8797 2023-04-15 22:43:49 2023-04-15 05:26:13 2023-04-15 19:23:41  281.99   \n",
       "8798 2023-04-15 22:48:50 2023-04-15 05:26:13 2023-04-15 19:23:41  282.06   \n",
       "8799 2023-04-15 22:53:50 2023-04-15 05:26:13 2023-04-15 19:23:41  282.06   \n",
       "8800 2023-04-15 22:58:50 2023-04-15 05:26:13 2023-04-15 19:23:41  282.06   \n",
       "\n",
       "      feels_like  pressure  humidity  uvi  clouds  visibility  wind_speed   \n",
       "8796      280.21      1021        87  0.0      75        9000        3.09  \\\n",
       "8797      280.21      1021        87  0.0      75        9000        3.09   \n",
       "8798      280.30      1020        87  0.0      75        9000        3.09   \n",
       "8799      280.30      1020        87  0.0      75        9000        3.09   \n",
       "8800      280.30      1020        87  0.0      75        9000        3.09   \n",
       "\n",
       "      wind_deg weather_description  temp_min  temp_max  \n",
       "8796       220          light rain    275.91    285.28  \n",
       "8797       220          light rain    275.91    285.28  \n",
       "8798       220       broken clouds    275.91    285.28  \n",
       "8799       220       broken clouds    275.91    285.28  \n",
       "8800       220       broken clouds    275.91    285.28  "
      ]
     },
     "execution_count": 26,
     "metadata": {},
     "output_type": "execute_result"
    }
   ],
   "source": [
    "URI = \"database-test1.ckvmcnbipeqn.eu-west-1.rds.amazonaws.com\"\n",
    "PORT = 3306\n",
    "DB = \"dbbikes\"\n",
    "USER = \"picto\"\n",
    "PASSWORD = \"Comp30830\"\n",
    "try:\n",
    "    conn = pymysql.connect(host=URI, user=USER, password=PASSWORD, port=PORT, database=DB)\n",
    "    sql = \"SELECT * FROM db_bikes.dublin_new_weather\"\n",
    "    cursor.execute(sql)\n",
    "    results = cursor.fetchall()\n",
    "    columns = [desc[0] for desc in cursor.description]\n",
    "    df_curr_weather = pd.DataFrame(results, columns= columns)\n",
    "    print(\"Database connected successfully\")\n",
    "except Exception as e:\n",
    "    sys.exit(e)\n",
    "\n",
    "df_curr_weather.tail()"
   ]
  },
  {
   "cell_type": "code",
   "execution_count": 28,
   "metadata": {},
   "outputs": [],
   "source": [
    "df_curr_weather = df_curr_weather[['dt','temp','clouds','wind_speed','weather_description','pressure']]"
   ]
  },
  {
   "cell_type": "code",
   "execution_count": 29,
   "metadata": {},
   "outputs": [
    {
     "data": {
      "text/plain": [
       "dt                     datetime64[ns]\n",
       "temp                          float64\n",
       "clouds                          int64\n",
       "wind_speed                    float64\n",
       "weather_description            object\n",
       "pressure                        int64\n",
       "dtype: object"
      ]
     },
     "execution_count": 29,
     "metadata": {},
     "output_type": "execute_result"
    }
   ],
   "source": [
    "df_curr_weather.dtypes"
   ]
  },
  {
   "cell_type": "code",
   "execution_count": 30,
   "metadata": {},
   "outputs": [
    {
     "name": "stderr",
     "output_type": "stream",
     "text": [
      "/var/folders/lj/wbk2xs0517dc9q1kh9bnrhd00000gn/T/ipykernel_9051/2860788863.py:1: SettingWithCopyWarning: \n",
      "A value is trying to be set on a copy of a slice from a DataFrame.\n",
      "Try using .loc[row_indexer,col_indexer] = value instead\n",
      "\n",
      "See the caveats in the documentation: https://pandas.pydata.org/pandas-docs/stable/user_guide/indexing.html#returning-a-view-versus-a-copy\n",
      "  df_curr_weather['weather_description'] = df_curr_weather['weather_description'].astype('category')\n"
     ]
    }
   ],
   "source": [
    "df_curr_weather['weather_description'] = df_curr_weather['weather_description'].astype('category')\n"
   ]
  },
  {
   "cell_type": "code",
   "execution_count": 31,
   "metadata": {},
   "outputs": [
    {
     "data": {
      "text/plain": [
       "dt                     datetime64[ns]\n",
       "temp                          float64\n",
       "clouds                          int64\n",
       "wind_speed                    float64\n",
       "weather_description          category\n",
       "pressure                        int64\n",
       "dtype: object"
      ]
     },
     "execution_count": 31,
     "metadata": {},
     "output_type": "execute_result"
    }
   ],
   "source": [
    "df_curr_weather.dtypes"
   ]
  },
  {
   "cell_type": "code",
   "execution_count": 32,
   "metadata": {},
   "outputs": [
    {
     "data": {
      "text/html": [
       "<div>\n",
       "<style scoped>\n",
       "    .dataframe tbody tr th:only-of-type {\n",
       "        vertical-align: middle;\n",
       "    }\n",
       "\n",
       "    .dataframe tbody tr th {\n",
       "        vertical-align: top;\n",
       "    }\n",
       "\n",
       "    .dataframe thead th {\n",
       "        text-align: right;\n",
       "    }\n",
       "</style>\n",
       "<table border=\"1\" class=\"dataframe\">\n",
       "  <thead>\n",
       "    <tr style=\"text-align: right;\">\n",
       "      <th></th>\n",
       "      <th>dt</th>\n",
       "      <th>temp</th>\n",
       "      <th>clouds</th>\n",
       "      <th>wind_speed</th>\n",
       "      <th>weather_description</th>\n",
       "      <th>pressure</th>\n",
       "    </tr>\n",
       "  </thead>\n",
       "  <tbody>\n",
       "  </tbody>\n",
       "</table>\n",
       "</div>"
      ],
      "text/plain": [
       "Empty DataFrame\n",
       "Columns: [dt, temp, clouds, wind_speed, weather_description, pressure]\n",
       "Index: []"
      ]
     },
     "execution_count": 32,
     "metadata": {},
     "output_type": "execute_result"
    }
   ],
   "source": [
    "df_curr_weather[df_curr_weather.isnull().values==True]\n"
   ]
  },
  {
   "cell_type": "code",
   "execution_count": 33,
   "metadata": {},
   "outputs": [
    {
     "name": "stdout",
     "output_type": "stream",
     "text": [
      "There are 0 duplicate rows including the first row.\n"
     ]
    }
   ],
   "source": [
    "duplicate = df_curr_weather[df_curr_weather.duplicated(keep=False)].shape[0]\n",
    "print(\"There are {} duplicate rows including the first row.\".format(duplicate))"
   ]
  },
  {
   "cell_type": "code",
   "execution_count": 34,
   "metadata": {},
   "outputs": [],
   "source": [
    "df_curr_weather.to_csv('df_curr_weather.csv', index=None)"
   ]
  },
  {
   "attachments": {},
   "cell_type": "markdown",
   "metadata": {},
   "source": [
    "#### Merge availability and weather dataframe"
   ]
  },
  {
   "cell_type": "code",
   "execution_count": 35,
   "metadata": {},
   "outputs": [
    {
     "data": {
      "text/html": [
       "<div>\n",
       "<style scoped>\n",
       "    .dataframe tbody tr th:only-of-type {\n",
       "        vertical-align: middle;\n",
       "    }\n",
       "\n",
       "    .dataframe tbody tr th {\n",
       "        vertical-align: top;\n",
       "    }\n",
       "\n",
       "    .dataframe thead th {\n",
       "        text-align: right;\n",
       "    }\n",
       "</style>\n",
       "<table border=\"1\" class=\"dataframe\">\n",
       "  <thead>\n",
       "    <tr style=\"text-align: right;\">\n",
       "      <th></th>\n",
       "      <th>number</th>\n",
       "      <th>available_bikes</th>\n",
       "      <th>available_bike_stands</th>\n",
       "      <th>last_update</th>\n",
       "      <th>weekday</th>\n",
       "      <th>hour</th>\n",
       "      <th>total_stands</th>\n",
       "      <th>dt</th>\n",
       "      <th>temp</th>\n",
       "      <th>clouds</th>\n",
       "      <th>wind_speed</th>\n",
       "      <th>weather_description</th>\n",
       "      <th>pressure</th>\n",
       "    </tr>\n",
       "  </thead>\n",
       "  <tbody>\n",
       "    <tr>\n",
       "      <th>1089721</th>\n",
       "      <td>85</td>\n",
       "      <td>4</td>\n",
       "      <td>31</td>\n",
       "      <td>2023-04-15 22:57:20</td>\n",
       "      <td>Saturday</td>\n",
       "      <td>23.0</td>\n",
       "      <td>35</td>\n",
       "      <td>2023-04-15 22:53:50</td>\n",
       "      <td>282.06</td>\n",
       "      <td>75.0</td>\n",
       "      <td>3.09</td>\n",
       "      <td>broken clouds</td>\n",
       "      <td>1020.0</td>\n",
       "    </tr>\n",
       "    <tr>\n",
       "      <th>1089722</th>\n",
       "      <td>14</td>\n",
       "      <td>25</td>\n",
       "      <td>5</td>\n",
       "      <td>2023-04-15 22:57:30</td>\n",
       "      <td>Saturday</td>\n",
       "      <td>23.0</td>\n",
       "      <td>30</td>\n",
       "      <td>2023-04-15 22:53:50</td>\n",
       "      <td>282.06</td>\n",
       "      <td>75.0</td>\n",
       "      <td>3.09</td>\n",
       "      <td>broken clouds</td>\n",
       "      <td>1020.0</td>\n",
       "    </tr>\n",
       "    <tr>\n",
       "      <th>1089723</th>\n",
       "      <td>79</td>\n",
       "      <td>1</td>\n",
       "      <td>26</td>\n",
       "      <td>2023-04-15 22:57:43</td>\n",
       "      <td>Saturday</td>\n",
       "      <td>23.0</td>\n",
       "      <td>27</td>\n",
       "      <td>2023-04-15 22:53:50</td>\n",
       "      <td>282.06</td>\n",
       "      <td>75.0</td>\n",
       "      <td>3.09</td>\n",
       "      <td>broken clouds</td>\n",
       "      <td>1020.0</td>\n",
       "    </tr>\n",
       "    <tr>\n",
       "      <th>1089724</th>\n",
       "      <td>48</td>\n",
       "      <td>3</td>\n",
       "      <td>37</td>\n",
       "      <td>2023-04-15 22:57:46</td>\n",
       "      <td>Saturday</td>\n",
       "      <td>23.0</td>\n",
       "      <td>40</td>\n",
       "      <td>2023-04-15 22:53:50</td>\n",
       "      <td>282.06</td>\n",
       "      <td>75.0</td>\n",
       "      <td>3.09</td>\n",
       "      <td>broken clouds</td>\n",
       "      <td>1020.0</td>\n",
       "    </tr>\n",
       "    <tr>\n",
       "      <th>1089725</th>\n",
       "      <td>56</td>\n",
       "      <td>6</td>\n",
       "      <td>34</td>\n",
       "      <td>2023-04-15 22:57:46</td>\n",
       "      <td>Saturday</td>\n",
       "      <td>23.0</td>\n",
       "      <td>40</td>\n",
       "      <td>2023-04-15 22:53:50</td>\n",
       "      <td>282.06</td>\n",
       "      <td>75.0</td>\n",
       "      <td>3.09</td>\n",
       "      <td>broken clouds</td>\n",
       "      <td>1020.0</td>\n",
       "    </tr>\n",
       "  </tbody>\n",
       "</table>\n",
       "</div>"
      ],
      "text/plain": [
       "         number  available_bikes  available_bike_stands         last_update   \n",
       "1089721      85                4                     31 2023-04-15 22:57:20  \\\n",
       "1089722      14               25                      5 2023-04-15 22:57:30   \n",
       "1089723      79                1                     26 2023-04-15 22:57:43   \n",
       "1089724      48                3                     37 2023-04-15 22:57:46   \n",
       "1089725      56                6                     34 2023-04-15 22:57:46   \n",
       "\n",
       "          weekday  hour  total_stands                  dt    temp  clouds   \n",
       "1089721  Saturday  23.0            35 2023-04-15 22:53:50  282.06    75.0  \\\n",
       "1089722  Saturday  23.0            30 2023-04-15 22:53:50  282.06    75.0   \n",
       "1089723  Saturday  23.0            27 2023-04-15 22:53:50  282.06    75.0   \n",
       "1089724  Saturday  23.0            40 2023-04-15 22:53:50  282.06    75.0   \n",
       "1089725  Saturday  23.0            40 2023-04-15 22:53:50  282.06    75.0   \n",
       "\n",
       "         wind_speed weather_description  pressure  \n",
       "1089721        3.09       broken clouds    1020.0  \n",
       "1089722        3.09       broken clouds    1020.0  \n",
       "1089723        3.09       broken clouds    1020.0  \n",
       "1089724        3.09       broken clouds    1020.0  \n",
       "1089725        3.09       broken clouds    1020.0  "
      ]
     },
     "execution_count": 35,
     "metadata": {},
     "output_type": "execute_result"
    }
   ],
   "source": [
    "df_bikes_availability_sorted = df_bikes_availability.sort_values(by=['last_update'])\n",
    "df_curr_weather_sorted = df_curr_weather.sort_values(by=['dt'])\n",
    "df_merged = pd.merge_asof(df_bikes_availability_sorted,df_curr_weather_sorted,left_on='last_update',right_on='dt')\n",
    "df_merged.tail()"
   ]
  },
  {
   "cell_type": "code",
   "execution_count": 36,
   "metadata": {},
   "outputs": [
    {
     "data": {
      "text/html": [
       "<div>\n",
       "<style scoped>\n",
       "    .dataframe tbody tr th:only-of-type {\n",
       "        vertical-align: middle;\n",
       "    }\n",
       "\n",
       "    .dataframe tbody tr th {\n",
       "        vertical-align: top;\n",
       "    }\n",
       "\n",
       "    .dataframe thead th {\n",
       "        text-align: right;\n",
       "    }\n",
       "</style>\n",
       "<table border=\"1\" class=\"dataframe\">\n",
       "  <thead>\n",
       "    <tr style=\"text-align: right;\">\n",
       "      <th></th>\n",
       "      <th>number</th>\n",
       "      <th>available_bikes</th>\n",
       "      <th>available_bike_stands</th>\n",
       "      <th>last_update</th>\n",
       "      <th>weekday</th>\n",
       "      <th>hour</th>\n",
       "      <th>total_stands</th>\n",
       "      <th>dt</th>\n",
       "      <th>temp</th>\n",
       "      <th>clouds</th>\n",
       "      <th>wind_speed</th>\n",
       "      <th>weather_description</th>\n",
       "      <th>pressure</th>\n",
       "    </tr>\n",
       "  </thead>\n",
       "  <tbody>\n",
       "    <tr>\n",
       "      <th>0</th>\n",
       "      <td>8</td>\n",
       "      <td>4</td>\n",
       "      <td>26</td>\n",
       "      <td>2023-03-13 14:37:42</td>\n",
       "      <td>Monday</td>\n",
       "      <td>14.0</td>\n",
       "      <td>30</td>\n",
       "      <td>NaT</td>\n",
       "      <td>NaN</td>\n",
       "      <td>NaN</td>\n",
       "      <td>NaN</td>\n",
       "      <td>NaN</td>\n",
       "      <td>NaN</td>\n",
       "    </tr>\n",
       "    <tr>\n",
       "      <th>0</th>\n",
       "      <td>8</td>\n",
       "      <td>4</td>\n",
       "      <td>26</td>\n",
       "      <td>2023-03-13 14:37:42</td>\n",
       "      <td>Monday</td>\n",
       "      <td>14.0</td>\n",
       "      <td>30</td>\n",
       "      <td>NaT</td>\n",
       "      <td>NaN</td>\n",
       "      <td>NaN</td>\n",
       "      <td>NaN</td>\n",
       "      <td>NaN</td>\n",
       "      <td>NaN</td>\n",
       "    </tr>\n",
       "    <tr>\n",
       "      <th>0</th>\n",
       "      <td>8</td>\n",
       "      <td>4</td>\n",
       "      <td>26</td>\n",
       "      <td>2023-03-13 14:37:42</td>\n",
       "      <td>Monday</td>\n",
       "      <td>14.0</td>\n",
       "      <td>30</td>\n",
       "      <td>NaT</td>\n",
       "      <td>NaN</td>\n",
       "      <td>NaN</td>\n",
       "      <td>NaN</td>\n",
       "      <td>NaN</td>\n",
       "      <td>NaN</td>\n",
       "    </tr>\n",
       "    <tr>\n",
       "      <th>0</th>\n",
       "      <td>8</td>\n",
       "      <td>4</td>\n",
       "      <td>26</td>\n",
       "      <td>2023-03-13 14:37:42</td>\n",
       "      <td>Monday</td>\n",
       "      <td>14.0</td>\n",
       "      <td>30</td>\n",
       "      <td>NaT</td>\n",
       "      <td>NaN</td>\n",
       "      <td>NaN</td>\n",
       "      <td>NaN</td>\n",
       "      <td>NaN</td>\n",
       "      <td>NaN</td>\n",
       "    </tr>\n",
       "    <tr>\n",
       "      <th>0</th>\n",
       "      <td>8</td>\n",
       "      <td>4</td>\n",
       "      <td>26</td>\n",
       "      <td>2023-03-13 14:37:42</td>\n",
       "      <td>Monday</td>\n",
       "      <td>14.0</td>\n",
       "      <td>30</td>\n",
       "      <td>NaT</td>\n",
       "      <td>NaN</td>\n",
       "      <td>NaN</td>\n",
       "      <td>NaN</td>\n",
       "      <td>NaN</td>\n",
       "      <td>NaN</td>\n",
       "    </tr>\n",
       "    <tr>\n",
       "      <th>...</th>\n",
       "      <td>...</td>\n",
       "      <td>...</td>\n",
       "      <td>...</td>\n",
       "      <td>...</td>\n",
       "      <td>...</td>\n",
       "      <td>...</td>\n",
       "      <td>...</td>\n",
       "      <td>...</td>\n",
       "      <td>...</td>\n",
       "      <td>...</td>\n",
       "      <td>...</td>\n",
       "      <td>...</td>\n",
       "      <td>...</td>\n",
       "    </tr>\n",
       "    <tr>\n",
       "      <th>1203</th>\n",
       "      <td>88</td>\n",
       "      <td>12</td>\n",
       "      <td>18</td>\n",
       "      <td>2023-03-13 15:17:59</td>\n",
       "      <td>Monday</td>\n",
       "      <td>15.0</td>\n",
       "      <td>30</td>\n",
       "      <td>NaT</td>\n",
       "      <td>NaN</td>\n",
       "      <td>NaN</td>\n",
       "      <td>NaN</td>\n",
       "      <td>NaN</td>\n",
       "      <td>NaN</td>\n",
       "    </tr>\n",
       "    <tr>\n",
       "      <th>1203</th>\n",
       "      <td>88</td>\n",
       "      <td>12</td>\n",
       "      <td>18</td>\n",
       "      <td>2023-03-13 15:17:59</td>\n",
       "      <td>Monday</td>\n",
       "      <td>15.0</td>\n",
       "      <td>30</td>\n",
       "      <td>NaT</td>\n",
       "      <td>NaN</td>\n",
       "      <td>NaN</td>\n",
       "      <td>NaN</td>\n",
       "      <td>NaN</td>\n",
       "      <td>NaN</td>\n",
       "    </tr>\n",
       "    <tr>\n",
       "      <th>1203</th>\n",
       "      <td>88</td>\n",
       "      <td>12</td>\n",
       "      <td>18</td>\n",
       "      <td>2023-03-13 15:17:59</td>\n",
       "      <td>Monday</td>\n",
       "      <td>15.0</td>\n",
       "      <td>30</td>\n",
       "      <td>NaT</td>\n",
       "      <td>NaN</td>\n",
       "      <td>NaN</td>\n",
       "      <td>NaN</td>\n",
       "      <td>NaN</td>\n",
       "      <td>NaN</td>\n",
       "    </tr>\n",
       "    <tr>\n",
       "      <th>1203</th>\n",
       "      <td>88</td>\n",
       "      <td>12</td>\n",
       "      <td>18</td>\n",
       "      <td>2023-03-13 15:17:59</td>\n",
       "      <td>Monday</td>\n",
       "      <td>15.0</td>\n",
       "      <td>30</td>\n",
       "      <td>NaT</td>\n",
       "      <td>NaN</td>\n",
       "      <td>NaN</td>\n",
       "      <td>NaN</td>\n",
       "      <td>NaN</td>\n",
       "      <td>NaN</td>\n",
       "    </tr>\n",
       "    <tr>\n",
       "      <th>1203</th>\n",
       "      <td>88</td>\n",
       "      <td>12</td>\n",
       "      <td>18</td>\n",
       "      <td>2023-03-13 15:17:59</td>\n",
       "      <td>Monday</td>\n",
       "      <td>15.0</td>\n",
       "      <td>30</td>\n",
       "      <td>NaT</td>\n",
       "      <td>NaN</td>\n",
       "      <td>NaN</td>\n",
       "      <td>NaN</td>\n",
       "      <td>NaN</td>\n",
       "      <td>NaN</td>\n",
       "    </tr>\n",
       "  </tbody>\n",
       "</table>\n",
       "<p>7224 rows × 13 columns</p>\n",
       "</div>"
      ],
      "text/plain": [
       "      number  available_bikes  available_bike_stands         last_update   \n",
       "0          8                4                     26 2023-03-13 14:37:42  \\\n",
       "0          8                4                     26 2023-03-13 14:37:42   \n",
       "0          8                4                     26 2023-03-13 14:37:42   \n",
       "0          8                4                     26 2023-03-13 14:37:42   \n",
       "0          8                4                     26 2023-03-13 14:37:42   \n",
       "...      ...              ...                    ...                 ...   \n",
       "1203      88               12                     18 2023-03-13 15:17:59   \n",
       "1203      88               12                     18 2023-03-13 15:17:59   \n",
       "1203      88               12                     18 2023-03-13 15:17:59   \n",
       "1203      88               12                     18 2023-03-13 15:17:59   \n",
       "1203      88               12                     18 2023-03-13 15:17:59   \n",
       "\n",
       "     weekday  hour  total_stands  dt  temp  clouds  wind_speed   \n",
       "0     Monday  14.0            30 NaT   NaN     NaN         NaN  \\\n",
       "0     Monday  14.0            30 NaT   NaN     NaN         NaN   \n",
       "0     Monday  14.0            30 NaT   NaN     NaN         NaN   \n",
       "0     Monday  14.0            30 NaT   NaN     NaN         NaN   \n",
       "0     Monday  14.0            30 NaT   NaN     NaN         NaN   \n",
       "...      ...   ...           ...  ..   ...     ...         ...   \n",
       "1203  Monday  15.0            30 NaT   NaN     NaN         NaN   \n",
       "1203  Monday  15.0            30 NaT   NaN     NaN         NaN   \n",
       "1203  Monday  15.0            30 NaT   NaN     NaN         NaN   \n",
       "1203  Monday  15.0            30 NaT   NaN     NaN         NaN   \n",
       "1203  Monday  15.0            30 NaT   NaN     NaN         NaN   \n",
       "\n",
       "     weather_description  pressure  \n",
       "0                    NaN       NaN  \n",
       "0                    NaN       NaN  \n",
       "0                    NaN       NaN  \n",
       "0                    NaN       NaN  \n",
       "0                    NaN       NaN  \n",
       "...                  ...       ...  \n",
       "1203                 NaN       NaN  \n",
       "1203                 NaN       NaN  \n",
       "1203                 NaN       NaN  \n",
       "1203                 NaN       NaN  \n",
       "1203                 NaN       NaN  \n",
       "\n",
       "[7224 rows x 13 columns]"
      ]
     },
     "execution_count": 36,
     "metadata": {},
     "output_type": "execute_result"
    }
   ],
   "source": [
    "df_merged[df_merged.isnull().values==True]"
   ]
  },
  {
   "cell_type": "code",
   "execution_count": 37,
   "metadata": {},
   "outputs": [],
   "source": [
    "df_merged.dropna(axis=0,how='any',inplace=True)"
   ]
  },
  {
   "cell_type": "code",
   "execution_count": 38,
   "metadata": {},
   "outputs": [],
   "source": [
    "df_merged = df_merged.drop(columns=['total_stands'])"
   ]
  },
  {
   "cell_type": "code",
   "execution_count": 39,
   "metadata": {},
   "outputs": [
    {
     "data": {
      "text/plain": [
       "number                            int64\n",
       "available_bikes                   int64\n",
       "available_bike_stands             int64\n",
       "last_update              datetime64[ns]\n",
       "weekday                        category\n",
       "hour                            float64\n",
       "dt                       datetime64[ns]\n",
       "temp                            float64\n",
       "clouds                          float64\n",
       "wind_speed                      float64\n",
       "weather_description            category\n",
       "pressure                        float64\n",
       "dtype: object"
      ]
     },
     "execution_count": 39,
     "metadata": {},
     "output_type": "execute_result"
    }
   ],
   "source": [
    "df_merged.dtypes"
   ]
  },
  {
   "cell_type": "code",
   "execution_count": 40,
   "metadata": {},
   "outputs": [],
   "source": [
    "df_merged.to_csv('df_merged.csv',index=True)"
   ]
  }
 ],
 "metadata": {
  "kernelspec": {
   "display_name": "Python 3",
   "language": "python",
   "name": "python3"
  },
  "language_info": {
   "codemirror_mode": {
    "name": "ipython",
    "version": 3
   },
   "file_extension": ".py",
   "mimetype": "text/x-python",
   "name": "python",
   "nbconvert_exporter": "python",
   "pygments_lexer": "ipython3",
   "version": "3.9.13"
  },
  "orig_nbformat": 4
 },
 "nbformat": 4,
 "nbformat_minor": 2
}
