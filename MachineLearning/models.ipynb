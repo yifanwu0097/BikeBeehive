{
 "cells": [
  {
   "attachments": {},
   "cell_type": "markdown",
   "metadata": {},
   "source": [
    "### Import modules"
   ]
  },
  {
   "cell_type": "code",
   "execution_count": 46,
   "metadata": {},
   "outputs": [],
   "source": [
    "import pickle\n",
    "import pandas as pd\n",
    "import numpy as np\n",
    "import pymysql.cursors\n",
    "import sys"
   ]
  },
  {
   "attachments": {},
   "cell_type": "markdown",
   "metadata": {},
   "source": [
    "### Connect to database and preview the dataframe"
   ]
  },
  {
   "cell_type": "code",
   "execution_count": 47,
   "metadata": {},
   "outputs": [
    {
     "name": "stdout",
     "output_type": "stream",
     "text": [
      "Database connected successfully\n"
     ]
    },
    {
     "data": {
      "text/html": [
       "<div>\n",
       "<style scoped>\n",
       "    .dataframe tbody tr th:only-of-type {\n",
       "        vertical-align: middle;\n",
       "    }\n",
       "\n",
       "    .dataframe tbody tr th {\n",
       "        vertical-align: top;\n",
       "    }\n",
       "\n",
       "    .dataframe thead th {\n",
       "        text-align: right;\n",
       "    }\n",
       "</style>\n",
       "<table border=\"1\" class=\"dataframe\">\n",
       "  <thead>\n",
       "    <tr style=\"text-align: right;\">\n",
       "      <th></th>\n",
       "      <th>number</th>\n",
       "      <th>available_bikes</th>\n",
       "      <th>available_bike_stands</th>\n",
       "      <th>last_update</th>\n",
       "    </tr>\n",
       "  </thead>\n",
       "  <tbody>\n",
       "    <tr>\n",
       "      <th>1015735</th>\n",
       "      <td>39</td>\n",
       "      <td>19</td>\n",
       "      <td>1</td>\n",
       "      <td>2023-04-13 16:29:05</td>\n",
       "    </tr>\n",
       "    <tr>\n",
       "      <th>1015736</th>\n",
       "      <td>83</td>\n",
       "      <td>1</td>\n",
       "      <td>39</td>\n",
       "      <td>2023-04-13 16:23:49</td>\n",
       "    </tr>\n",
       "    <tr>\n",
       "      <th>1015737</th>\n",
       "      <td>92</td>\n",
       "      <td>27</td>\n",
       "      <td>13</td>\n",
       "      <td>2023-04-13 16:28:30</td>\n",
       "    </tr>\n",
       "    <tr>\n",
       "      <th>1015738</th>\n",
       "      <td>21</td>\n",
       "      <td>14</td>\n",
       "      <td>15</td>\n",
       "      <td>2023-04-13 16:28:11</td>\n",
       "    </tr>\n",
       "    <tr>\n",
       "      <th>1015739</th>\n",
       "      <td>88</td>\n",
       "      <td>6</td>\n",
       "      <td>23</td>\n",
       "      <td>2023-04-13 16:24:39</td>\n",
       "    </tr>\n",
       "  </tbody>\n",
       "</table>\n",
       "</div>"
      ],
      "text/plain": [
       "         number  available_bikes  available_bike_stands         last_update\n",
       "1015735      39               19                      1 2023-04-13 16:29:05\n",
       "1015736      83                1                     39 2023-04-13 16:23:49\n",
       "1015737      92               27                     13 2023-04-13 16:28:30\n",
       "1015738      21               14                     15 2023-04-13 16:28:11\n",
       "1015739      88                6                     23 2023-04-13 16:24:39"
      ]
     },
     "execution_count": 47,
     "metadata": {},
     "output_type": "execute_result"
    }
   ],
   "source": [
    "URI = \"database-test1.ckvmcnbipeqn.eu-west-1.rds.amazonaws.com\"\n",
    "PORT = 3306\n",
    "DB = \"dbbikes\"\n",
    "USER = \"picto\"\n",
    "PASSWORD = \"Comp30830\"\n",
    "try:\n",
    "    conn = pymysql.connect(host=URI, user=USER, password=PASSWORD, port=PORT, database=DB)\n",
    "\n",
    "    cursor = conn.cursor()\n",
    "    sql = \"SELECT * FROM db_bikes.station_new_availability\"\n",
    "    cursor.execute(sql)\n",
    "    results = cursor.fetchall()\n",
    "    columns = [desc[0] for desc in cursor.description]\n",
    "    df_bikes_availability = pd.DataFrame(results, columns= columns)\n",
    "    print(\"Database connected successfully\")\n",
    "except Exception as e:\n",
    "    sys.exit(e)\n",
    "\n",
    "df_bikes_availability.tail()"
   ]
  },
  {
   "attachments": {},
   "cell_type": "markdown",
   "metadata": {},
   "source": [
    "### Add columns"
   ]
  },
  {
   "cell_type": "code",
   "execution_count": 48,
   "metadata": {},
   "outputs": [],
   "source": [
    "\n",
    "df_bikes_availability['weekday'] = df_bikes_availability.last_update.dt.day_name()\n",
    "df_bikes_availability.loc[df_bikes_availability.last_update >= pd.Timestamp('2023-03-26 01:00:00'), 'hour'] = df_bikes_availability.last_update.dt.hour + 1\n",
    "df_bikes_availability.loc[df_bikes_availability.last_update < pd.Timestamp('2023-03-26 01:00:00'), 'hour'] = df_bikes_availability.last_update.dt.hour\n",
    "df_bikes_availability['total_stands'] = df_bikes_availability['available_bikes'] + df_bikes_availability['available_bike_stands']"
   ]
  },
  {
   "cell_type": "code",
   "execution_count": 49,
   "metadata": {},
   "outputs": [
    {
     "data": {
      "text/html": [
       "<div>\n",
       "<style scoped>\n",
       "    .dataframe tbody tr th:only-of-type {\n",
       "        vertical-align: middle;\n",
       "    }\n",
       "\n",
       "    .dataframe tbody tr th {\n",
       "        vertical-align: top;\n",
       "    }\n",
       "\n",
       "    .dataframe thead th {\n",
       "        text-align: right;\n",
       "    }\n",
       "</style>\n",
       "<table border=\"1\" class=\"dataframe\">\n",
       "  <thead>\n",
       "    <tr style=\"text-align: right;\">\n",
       "      <th></th>\n",
       "      <th>number</th>\n",
       "      <th>available_bikes</th>\n",
       "      <th>available_bike_stands</th>\n",
       "      <th>last_update</th>\n",
       "      <th>weekday</th>\n",
       "      <th>hour</th>\n",
       "      <th>total_stands</th>\n",
       "    </tr>\n",
       "  </thead>\n",
       "  <tbody>\n",
       "    <tr>\n",
       "      <th>1015735</th>\n",
       "      <td>39</td>\n",
       "      <td>19</td>\n",
       "      <td>1</td>\n",
       "      <td>2023-04-13 16:29:05</td>\n",
       "      <td>Thursday</td>\n",
       "      <td>17.0</td>\n",
       "      <td>20</td>\n",
       "    </tr>\n",
       "    <tr>\n",
       "      <th>1015736</th>\n",
       "      <td>83</td>\n",
       "      <td>1</td>\n",
       "      <td>39</td>\n",
       "      <td>2023-04-13 16:23:49</td>\n",
       "      <td>Thursday</td>\n",
       "      <td>17.0</td>\n",
       "      <td>40</td>\n",
       "    </tr>\n",
       "    <tr>\n",
       "      <th>1015737</th>\n",
       "      <td>92</td>\n",
       "      <td>27</td>\n",
       "      <td>13</td>\n",
       "      <td>2023-04-13 16:28:30</td>\n",
       "      <td>Thursday</td>\n",
       "      <td>17.0</td>\n",
       "      <td>40</td>\n",
       "    </tr>\n",
       "    <tr>\n",
       "      <th>1015738</th>\n",
       "      <td>21</td>\n",
       "      <td>14</td>\n",
       "      <td>15</td>\n",
       "      <td>2023-04-13 16:28:11</td>\n",
       "      <td>Thursday</td>\n",
       "      <td>17.0</td>\n",
       "      <td>29</td>\n",
       "    </tr>\n",
       "    <tr>\n",
       "      <th>1015739</th>\n",
       "      <td>88</td>\n",
       "      <td>6</td>\n",
       "      <td>23</td>\n",
       "      <td>2023-04-13 16:24:39</td>\n",
       "      <td>Thursday</td>\n",
       "      <td>17.0</td>\n",
       "      <td>29</td>\n",
       "    </tr>\n",
       "  </tbody>\n",
       "</table>\n",
       "</div>"
      ],
      "text/plain": [
       "         number  available_bikes  available_bike_stands         last_update   \n",
       "1015735      39               19                      1 2023-04-13 16:29:05  \\\n",
       "1015736      83                1                     39 2023-04-13 16:23:49   \n",
       "1015737      92               27                     13 2023-04-13 16:28:30   \n",
       "1015738      21               14                     15 2023-04-13 16:28:11   \n",
       "1015739      88                6                     23 2023-04-13 16:24:39   \n",
       "\n",
       "          weekday  hour  total_stands  \n",
       "1015735  Thursday  17.0            20  \n",
       "1015736  Thursday  17.0            40  \n",
       "1015737  Thursday  17.0            40  \n",
       "1015738  Thursday  17.0            29  \n",
       "1015739  Thursday  17.0            29  "
      ]
     },
     "execution_count": 49,
     "metadata": {},
     "output_type": "execute_result"
    }
   ],
   "source": [
    "df_bikes_availability.tail()"
   ]
  },
  {
   "attachments": {},
   "cell_type": "markdown",
   "metadata": {},
   "source": [
    "### Check null data"
   ]
  },
  {
   "cell_type": "code",
   "execution_count": 50,
   "metadata": {},
   "outputs": [
    {
     "data": {
      "text/html": [
       "<div>\n",
       "<style scoped>\n",
       "    .dataframe tbody tr th:only-of-type {\n",
       "        vertical-align: middle;\n",
       "    }\n",
       "\n",
       "    .dataframe tbody tr th {\n",
       "        vertical-align: top;\n",
       "    }\n",
       "\n",
       "    .dataframe thead th {\n",
       "        text-align: right;\n",
       "    }\n",
       "</style>\n",
       "<table border=\"1\" class=\"dataframe\">\n",
       "  <thead>\n",
       "    <tr style=\"text-align: right;\">\n",
       "      <th></th>\n",
       "      <th>number</th>\n",
       "      <th>available_bikes</th>\n",
       "      <th>available_bike_stands</th>\n",
       "      <th>last_update</th>\n",
       "      <th>weekday</th>\n",
       "      <th>hour</th>\n",
       "      <th>total_stands</th>\n",
       "    </tr>\n",
       "  </thead>\n",
       "  <tbody>\n",
       "  </tbody>\n",
       "</table>\n",
       "</div>"
      ],
      "text/plain": [
       "Empty DataFrame\n",
       "Columns: [number, available_bikes, available_bike_stands, last_update, weekday, hour, total_stands]\n",
       "Index: []"
      ]
     },
     "execution_count": 50,
     "metadata": {},
     "output_type": "execute_result"
    }
   ],
   "source": [
    "df_bikes_availability[df_bikes_availability.isnull().values==True]"
   ]
  },
  {
   "attachments": {},
   "cell_type": "markdown",
   "metadata": {},
   "source": [
    "### Check duplicate data"
   ]
  },
  {
   "cell_type": "code",
   "execution_count": 51,
   "metadata": {},
   "outputs": [],
   "source": [
    "# df_bikes_availability.duplicated().sum()\n",
    "# include_duplicate = df_bikes_availability[df_bikes_availability.duplicated(keep=False)].shape[0]\n",
    "# print(\"There are {} duplicate rows including the first row.\".format(include_duplicate))\n",
    "# include_duplicate = df_bikes_availability[df_bikes_availability.duplicated(keep=False)]\n",
    "# print(include_duplicate)"
   ]
  },
  {
   "cell_type": "code",
   "execution_count": 52,
   "metadata": {},
   "outputs": [
    {
     "data": {
      "text/html": [
       "<div>\n",
       "<style scoped>\n",
       "    .dataframe tbody tr th:only-of-type {\n",
       "        vertical-align: middle;\n",
       "    }\n",
       "\n",
       "    .dataframe tbody tr th {\n",
       "        vertical-align: top;\n",
       "    }\n",
       "\n",
       "    .dataframe thead th {\n",
       "        text-align: right;\n",
       "    }\n",
       "</style>\n",
       "<table border=\"1\" class=\"dataframe\">\n",
       "  <thead>\n",
       "    <tr style=\"text-align: right;\">\n",
       "      <th></th>\n",
       "      <th>number</th>\n",
       "      <th>available_bikes</th>\n",
       "      <th>available_bike_stands</th>\n",
       "      <th>last_update</th>\n",
       "      <th>weekday</th>\n",
       "      <th>hour</th>\n",
       "      <th>total_stands</th>\n",
       "    </tr>\n",
       "  </thead>\n",
       "  <tbody>\n",
       "  </tbody>\n",
       "</table>\n",
       "</div>"
      ],
      "text/plain": [
       "Empty DataFrame\n",
       "Columns: [number, available_bikes, available_bike_stands, last_update, weekday, hour, total_stands]\n",
       "Index: []"
      ]
     },
     "execution_count": 52,
     "metadata": {},
     "output_type": "execute_result"
    }
   ],
   "source": []
  }
 ],
 "metadata": {
  "kernelspec": {
   "display_name": "Python 3",
   "language": "python",
   "name": "python3"
  },
  "language_info": {
   "codemirror_mode": {
    "name": "ipython",
    "version": 3
   },
   "file_extension": ".py",
   "mimetype": "text/x-python",
   "name": "python",
   "nbconvert_exporter": "python",
   "pygments_lexer": "ipython3",
   "version": "3.9.13"
  },
  "orig_nbformat": 4
 },
 "nbformat": 4,
 "nbformat_minor": 2
}
